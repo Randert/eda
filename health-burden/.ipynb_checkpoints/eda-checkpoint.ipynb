{
 "cells": [
  {
   "cell_type": "markdown",
   "metadata": {},
   "source": [
    "# Health Burden"
   ]
  },
  {
   "cell_type": "markdown",
   "metadata": {},
   "source": [
    "## Set up"
   ]
  },
  {
   "cell_type": "code",
   "execution_count": 2,
   "metadata": {
    "collapsed": false
   },
   "outputs": [],
   "source": [
    "# Read in data\n",
    "import pandas\n",
    "data = pandas.read_csv('./data/prepped/risk-data.csv')"
   ]
  },
  {
   "cell_type": "markdown",
   "metadata": {},
   "source": [
    "## Data Structure\n",
    "To get a basic sense of your dataset, check the following:\n",
    "\n",
    "- How large is the dataset (rows, columns)?\n",
    "- What are the variables present in the dataset?\n",
    "- What is the data type of each variable?"
   ]
  },
  {
   "cell_type": "code",
   "execution_count": 27,
   "metadata": {
    "collapsed": false
   },
   "outputs": [
    {
     "name": "stdout",
     "output_type": "stream",
     "text": [
      "Row Count =  1950\n",
      "Column Count =  12\n",
      "\n",
      "country          object\n",
      "country.code     object\n",
      "super.region     object\n",
      "region           object\n",
      "sex              object\n",
      "age              object\n",
      "pop             float64\n",
      "alcohol.use     float64\n",
      "drug.use        float64\n",
      "high.meat       float64\n",
      "low.exercise    float64\n",
      "smoking         float64\n",
      "dtype: object\n"
     ]
    }
   ],
   "source": [
    "Count_Row=data.shape[0] #give number of row count\n",
    "print('Row Count = ', Count_Row)        \n",
    "Count_Col=data.shape[1] #give numer of column count\n",
    "print('Column Count = ',Count_Col)\n",
    "print()\n",
    "\n",
    "#List all variables with their data types\n",
    "types = data.dtypes\n",
    "print(types)"
   ]
  },
  {
   "cell_type": "markdown",
   "metadata": {},
   "source": [
    "\n",
    "## Univariate Analysis\n",
    "For each variable of interest, answer the following questions. As you do so, begin making a list of further questions you would like to investigate:\n",
    "\n",
    "- What does the distribution of each (risk factor) variable look like?\n",
    "- Is any variable ever missing (and if so, why)?\n",
    "- What are the basic summary statistics (mean, median, standard deviation) each variable, and what is it's range (min/max)?\n",
    "- What do you find surprising?"
   ]
  },
  {
   "cell_type": "code",
   "execution_count": 38,
   "metadata": {
    "collapsed": false
   },
   "outputs": [
    {
     "name": "stderr",
     "output_type": "stream",
     "text": [
      "C:\\Users\\rande\\Anaconda3\\lib\\site-packages\\numpy\\lib\\function_base.py:3834: RuntimeWarning: Invalid value encountered in percentile\n",
      "  RuntimeWarning)\n"
     ]
    },
    {
     "data": {
      "text/html": [
       "<div>\n",
       "<table border=\"1\" class=\"dataframe\">\n",
       "  <thead>\n",
       "    <tr style=\"text-align: right;\">\n",
       "      <th></th>\n",
       "      <th>pop</th>\n",
       "      <th>alcohol.use</th>\n",
       "      <th>drug.use</th>\n",
       "      <th>high.meat</th>\n",
       "      <th>low.exercise</th>\n",
       "      <th>smoking</th>\n",
       "    </tr>\n",
       "  </thead>\n",
       "  <tbody>\n",
       "    <tr>\n",
       "      <th>count</th>\n",
       "      <td>1.950000e+03</td>\n",
       "      <td>1950.000000</td>\n",
       "      <td>1950.000000</td>\n",
       "      <td>1170.000000</td>\n",
       "      <td>1170.000000</td>\n",
       "      <td>1170.000000</td>\n",
       "    </tr>\n",
       "    <tr>\n",
       "      <th>mean</th>\n",
       "      <td>3.777708e+06</td>\n",
       "      <td>47.146545</td>\n",
       "      <td>7.128357</td>\n",
       "      <td>2.594225</td>\n",
       "      <td>119.552443</td>\n",
       "      <td>299.520438</td>\n",
       "    </tr>\n",
       "    <tr>\n",
       "      <th>std</th>\n",
       "      <td>1.913391e+07</td>\n",
       "      <td>86.009150</td>\n",
       "      <td>14.197640</td>\n",
       "      <td>4.043355</td>\n",
       "      <td>153.239610</td>\n",
       "      <td>437.167168</td>\n",
       "    </tr>\n",
       "    <tr>\n",
       "      <th>min</th>\n",
       "      <td>3.563755e+02</td>\n",
       "      <td>-106.232008</td>\n",
       "      <td>0.000038</td>\n",
       "      <td>0.000176</td>\n",
       "      <td>0.308731</td>\n",
       "      <td>0.532166</td>\n",
       "    </tr>\n",
       "    <tr>\n",
       "      <th>25%</th>\n",
       "      <td>1.000900e+05</td>\n",
       "      <td>0.273705</td>\n",
       "      <td>0.030068</td>\n",
       "      <td>NaN</td>\n",
       "      <td>NaN</td>\n",
       "      <td>NaN</td>\n",
       "    </tr>\n",
       "    <tr>\n",
       "      <th>50%</th>\n",
       "      <td>5.054975e+05</td>\n",
       "      <td>6.784878</td>\n",
       "      <td>1.917572</td>\n",
       "      <td>NaN</td>\n",
       "      <td>NaN</td>\n",
       "      <td>NaN</td>\n",
       "    </tr>\n",
       "    <tr>\n",
       "      <th>75%</th>\n",
       "      <td>2.071966e+06</td>\n",
       "      <td>54.987255</td>\n",
       "      <td>8.528416</td>\n",
       "      <td>NaN</td>\n",
       "      <td>NaN</td>\n",
       "      <td>NaN</td>\n",
       "    </tr>\n",
       "    <tr>\n",
       "      <th>max</th>\n",
       "      <td>3.901690e+08</td>\n",
       "      <td>662.914151</td>\n",
       "      <td>314.625888</td>\n",
       "      <td>36.087746</td>\n",
       "      <td>844.249502</td>\n",
       "      <td>2691.239677</td>\n",
       "    </tr>\n",
       "  </tbody>\n",
       "</table>\n",
       "</div>"
      ],
      "text/plain": [
       "                pop  alcohol.use     drug.use    high.meat  low.exercise  \\\n",
       "count  1.950000e+03  1950.000000  1950.000000  1170.000000   1170.000000   \n",
       "mean   3.777708e+06    47.146545     7.128357     2.594225    119.552443   \n",
       "std    1.913391e+07    86.009150    14.197640     4.043355    153.239610   \n",
       "min    3.563755e+02  -106.232008     0.000038     0.000176      0.308731   \n",
       "25%    1.000900e+05     0.273705     0.030068          NaN           NaN   \n",
       "50%    5.054975e+05     6.784878     1.917572          NaN           NaN   \n",
       "75%    2.071966e+06    54.987255     8.528416          NaN           NaN   \n",
       "max    3.901690e+08   662.914151   314.625888    36.087746    844.249502   \n",
       "\n",
       "           smoking  \n",
       "count  1170.000000  \n",
       "mean    299.520438  \n",
       "std     437.167168  \n",
       "min       0.532166  \n",
       "25%            NaN  \n",
       "50%            NaN  \n",
       "75%            NaN  \n",
       "max    2691.239677  "
      ]
     },
     "execution_count": 38,
     "metadata": {},
     "output_type": "execute_result"
    }
   ],
   "source": [
    "#\n",
    "plt.figure();\n",
    "\n",
    "#data.plot.hist()\n",
    "#It appears that there is mmissing data for younger ages when it comes to meat, exerrcise and smoking\n",
    "\n",
    "#Shows mean, median and mode of data\n",
    "data.describe()\n",
    "\n"
   ]
  },
  {
   "cell_type": "markdown",
   "metadata": {},
   "source": [
    "## Univariate analysis (by age)\n",
    "In this section, you should investigate how each (risk-variable) varies by **age group**. More specifically, consider if the distribution of each variable of interest (smoking, alcohol use, etc.) is consistent across age-groups."
   ]
  },
  {
   "cell_type": "code",
   "execution_count": 3,
   "metadata": {
    "collapsed": true
   },
   "outputs": [],
   "source": [
    "# Code goes here"
   ]
  },
  {
   "cell_type": "markdown",
   "metadata": {},
   "source": [
    "## Univariate analysis (by sex)\n",
    "In this section, you should investigate how each (risk-variable) varies by **sex group**. More specifically, consider if the distribution of each variable of interest (smoking, alcohol use, etc.) is consistent across sex-groups. Depending on your procedure, you may need to **reshape your data**."
   ]
  },
  {
   "cell_type": "code",
   "execution_count": 4,
   "metadata": {
    "collapsed": true
   },
   "outputs": [],
   "source": [
    "# Code goes here"
   ]
  },
  {
   "cell_type": "markdown",
   "metadata": {},
   "source": [
    "## Univariate analysis (by country)\n",
    "In this section, you should investigate how each (risk-variable) varies by **country**. Given the number of countries present in the dataset, I suggest that you aggregate your data by region. In order to do this, you'll need to **convert death rates to deaths** using the `pop` column."
   ]
  },
  {
   "cell_type": "code",
   "execution_count": 5,
   "metadata": {
    "collapsed": true
   },
   "outputs": [],
   "source": [
    "# Code goes here"
   ]
  },
  {
   "cell_type": "markdown",
   "metadata": {},
   "source": [
    "## Bivariate analysis\n",
    "In this section, you should compare risks-variables to one another to see how they co-vary. Use simple statistical tests (i.e., **correlation**) and visualization as you see fit. "
   ]
  },
  {
   "cell_type": "code",
   "execution_count": 6,
   "metadata": {
    "collapsed": true
   },
   "outputs": [],
   "source": [
    "# Code goes here"
   ]
  }
 ],
 "metadata": {
  "anaconda-cloud": {},
  "kernelspec": {
   "display_name": "Python [conda root]",
   "language": "python",
   "name": "conda-root-py"
  },
  "language_info": {
   "codemirror_mode": {
    "name": "ipython",
    "version": 3
   },
   "file_extension": ".py",
   "mimetype": "text/x-python",
   "name": "python",
   "nbconvert_exporter": "python",
   "pygments_lexer": "ipython3",
   "version": "3.5.2"
  }
 },
 "nbformat": 4,
 "nbformat_minor": 0
}
